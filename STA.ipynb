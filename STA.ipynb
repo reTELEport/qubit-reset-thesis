{
 "cells": [
  {
   "cell_type": "code",
   "execution_count": 2,
   "metadata": {},
   "outputs": [],
   "source": [
    "import sympy as sp"
   ]
  },
  {
   "cell_type": "code",
   "execution_count": 3,
   "metadata": {},
   "outputs": [],
   "source": [
    "def npad_rot_sym(h, j, k):\n",
    "    delta_jk =  (h[j, j] - h[k, k]) / 2\n",
    "    g_jk = h[j, k]\n",
    "    theta = sp.atan(g_jk / delta_jk)\n",
    "    c_jk = sp.cos(theta / 2)\n",
    "    s_jk = sp.sin(theta / 2)\n",
    "    u_jk = sp.eye(h.shape[0], h.shape[1])\n",
    "    u_jk[j, j] = c_jk\n",
    "    u_jk[k, k] = c_jk\n",
    "    u_jk[j, k] = s_jk\n",
    "    u_jk[k, j] = -s_jk\n",
    "    h_pr = u_jk @ h @ u_jk.T\n",
    "    # if h_pr[j, j] > h_pr[k, k]:\n",
    "    #     h_pr[:, [j, k]] = h_pr[:, [k, j]]\n",
    "    #     h_pr[[j, k], :] = h_pr[[k, j], :]\n",
    "    return h_pr"
   ]
  },
  {
   "cell_type": "code",
   "execution_count": 38,
   "metadata": {},
   "outputs": [
    {
     "data": {
      "text/latex": [
       "$\\displaystyle \\left[\\begin{matrix}Δ & g\\\\g & - Δ\\end{matrix}\\right]$"
      ],
      "text/plain": [
       "Matrix([\n",
       "[Δ,  g],\n",
       "[g, -Δ]])"
      ]
     },
     "execution_count": 38,
     "metadata": {},
     "output_type": "execute_result"
    }
   ],
   "source": [
    "wq = sp.Symbol('wq', positive=True, real=True, dtype=float)\n",
    "wc = sp.Symbol('wc', positive=True, real=True, dtype=float)\n",
    "g = sp.Symbol('g', positive=True, real=True, dtype=float)\n",
    "a = sp.Symbol('α', positive=False, real=True, dtype=float)\n",
    "b = sp.Symbol('β', positive=False, real=True, dtype=float)\n",
    "delta = sp.Symbol('Δ', real=True, dtype=float)\n",
    "del1 = sp.Symbol('δ1', real=True, positive=True, dtype=float)\n",
    "gamma = sp.Symbol('γ', real=True, positive=False, dtype=float)\n",
    "g_val = 50\n",
    "a_val = -200\n",
    "del1_alpha = (del1, -a/2)\n",
    "\n",
    "\n",
    "h0 = sp.Matrix([\n",
    "[delta,      g],\n",
    "[g,       -delta]])\n",
    "\n",
    "\n",
    "h0"
   ]
  },
  {
   "cell_type": "code",
   "execution_count": 15,
   "metadata": {},
   "outputs": [],
   "source": [
    "h1 = npad_rot_sym(h0, 0, 1)"
   ]
  },
  {
   "cell_type": "code",
   "execution_count": 17,
   "metadata": {},
   "outputs": [
    {
     "data": {
      "text/latex": [
       "$\\displaystyle \\left[\\begin{matrix}\\left(g \\sin{\\left(\\frac{\\operatorname{atan}{\\left(\\frac{g}{Δ} \\right)}}{2} \\right)} + Δ \\cos{\\left(\\frac{\\operatorname{atan}{\\left(\\frac{g}{Δ} \\right)}}{2} \\right)}\\right) \\cos{\\left(\\frac{\\operatorname{atan}{\\left(\\frac{g}{Δ} \\right)}}{2} \\right)} + \\left(g \\cos{\\left(\\frac{\\operatorname{atan}{\\left(\\frac{g}{Δ} \\right)}}{2} \\right)} - Δ \\sin{\\left(\\frac{\\operatorname{atan}{\\left(\\frac{g}{Δ} \\right)}}{2} \\right)}\\right) \\sin{\\left(\\frac{\\operatorname{atan}{\\left(\\frac{g}{Δ} \\right)}}{2} \\right)} & - \\left(g \\sin{\\left(\\frac{\\operatorname{atan}{\\left(\\frac{g}{Δ} \\right)}}{2} \\right)} + Δ \\cos{\\left(\\frac{\\operatorname{atan}{\\left(\\frac{g}{Δ} \\right)}}{2} \\right)}\\right) \\sin{\\left(\\frac{\\operatorname{atan}{\\left(\\frac{g}{Δ} \\right)}}{2} \\right)} + \\left(g \\cos{\\left(\\frac{\\operatorname{atan}{\\left(\\frac{g}{Δ} \\right)}}{2} \\right)} - Δ \\sin{\\left(\\frac{\\operatorname{atan}{\\left(\\frac{g}{Δ} \\right)}}{2} \\right)}\\right) \\cos{\\left(\\frac{\\operatorname{atan}{\\left(\\frac{g}{Δ} \\right)}}{2} \\right)}\\\\\\left(- g \\sin{\\left(\\frac{\\operatorname{atan}{\\left(\\frac{g}{Δ} \\right)}}{2} \\right)} - Δ \\cos{\\left(\\frac{\\operatorname{atan}{\\left(\\frac{g}{Δ} \\right)}}{2} \\right)}\\right) \\sin{\\left(\\frac{\\operatorname{atan}{\\left(\\frac{g}{Δ} \\right)}}{2} \\right)} + \\left(g \\cos{\\left(\\frac{\\operatorname{atan}{\\left(\\frac{g}{Δ} \\right)}}{2} \\right)} - Δ \\sin{\\left(\\frac{\\operatorname{atan}{\\left(\\frac{g}{Δ} \\right)}}{2} \\right)}\\right) \\cos{\\left(\\frac{\\operatorname{atan}{\\left(\\frac{g}{Δ} \\right)}}{2} \\right)} & \\left(- g \\sin{\\left(\\frac{\\operatorname{atan}{\\left(\\frac{g}{Δ} \\right)}}{2} \\right)} - Δ \\cos{\\left(\\frac{\\operatorname{atan}{\\left(\\frac{g}{Δ} \\right)}}{2} \\right)}\\right) \\cos{\\left(\\frac{\\operatorname{atan}{\\left(\\frac{g}{Δ} \\right)}}{2} \\right)} - \\left(g \\cos{\\left(\\frac{\\operatorname{atan}{\\left(\\frac{g}{Δ} \\right)}}{2} \\right)} - Δ \\sin{\\left(\\frac{\\operatorname{atan}{\\left(\\frac{g}{Δ} \\right)}}{2} \\right)}\\right) \\sin{\\left(\\frac{\\operatorname{atan}{\\left(\\frac{g}{Δ} \\right)}}{2} \\right)}\\end{matrix}\\right]$"
      ],
      "text/plain": [
       "Matrix([\n",
       "[ (g*sin(atan(g/Δ)/2) + Δ*cos(atan(g/Δ)/2))*cos(atan(g/Δ)/2) + (g*cos(atan(g/Δ)/2) - Δ*sin(atan(g/Δ)/2))*sin(atan(g/Δ)/2), -(g*sin(atan(g/Δ)/2) + Δ*cos(atan(g/Δ)/2))*sin(atan(g/Δ)/2) + (g*cos(atan(g/Δ)/2) - Δ*sin(atan(g/Δ)/2))*cos(atan(g/Δ)/2)],\n",
       "[(-g*sin(atan(g/Δ)/2) - Δ*cos(atan(g/Δ)/2))*sin(atan(g/Δ)/2) + (g*cos(atan(g/Δ)/2) - Δ*sin(atan(g/Δ)/2))*cos(atan(g/Δ)/2), (-g*sin(atan(g/Δ)/2) - Δ*cos(atan(g/Δ)/2))*cos(atan(g/Δ)/2) - (g*cos(atan(g/Δ)/2) - Δ*sin(atan(g/Δ)/2))*sin(atan(g/Δ)/2)]])"
      ]
     },
     "execution_count": 17,
     "metadata": {},
     "output_type": "execute_result"
    }
   ],
   "source": [
    "h1"
   ]
  },
  {
   "cell_type": "code",
   "execution_count": 21,
   "metadata": {},
   "outputs": [
    {
     "data": {
      "text/latex": [
       "$\\displaystyle \\frac{g}{\\sqrt{\\frac{g^{2}}{Δ^{2}} + 1}} - \\frac{g \\left|{Δ}\\right|}{\\sqrt{g^{2} + Δ^{2}}}$"
      ],
      "text/plain": [
       "g/sqrt(g**2/Δ**2 + 1) - g*Abs(Δ)/sqrt(g**2 + Δ**2)"
      ]
     },
     "execution_count": 21,
     "metadata": {},
     "output_type": "execute_result"
    }
   ],
   "source": [
    "off_diag = h1[0, 1]\n",
    "off_diag.simplify()"
   ]
  },
  {
   "cell_type": "code",
   "execution_count": 27,
   "metadata": {},
   "outputs": [],
   "source": [
    "eigenvec0 = h0.eigenvects()[0][2][0]\n",
    "eigenvec1 = h0.eigenvects()[1][2][0]\n"
   ]
  },
  {
   "cell_type": "code",
   "execution_count": 28,
   "metadata": {},
   "outputs": [
    {
     "name": "stdout",
     "output_type": "stream",
     "text": [
      "Matrix([[Δ/g - sqrt(g**2 + Δ**2)/g], [1]])\n",
      "Matrix([[Δ/g + sqrt(g**2 + Δ**2)/g], [1]])\n"
     ]
    }
   ],
   "source": [
    "print(eigenvec0)\n",
    "print(eigenvec1)"
   ]
  },
  {
   "cell_type": "code",
   "execution_count": 39,
   "metadata": {},
   "outputs": [
    {
     "data": {
      "text/latex": [
       "$\\displaystyle \\left[\\begin{matrix}\\frac{Δ}{g} - \\frac{\\sqrt{g^{2} + Δ^{2}}}{g} & \\frac{Δ}{g} + \\frac{\\sqrt{g^{2} + Δ^{2}}}{g}\\\\1 & 1\\end{matrix}\\right]$"
      ],
      "text/plain": [
       "Matrix([\n",
       "[Δ/g - sqrt(g**2 + Δ**2)/g, Δ/g + sqrt(g**2 + Δ**2)/g],\n",
       "[                        1,                         1]])"
      ]
     },
     "execution_count": 39,
     "metadata": {},
     "output_type": "execute_result"
    }
   ],
   "source": [
    "D = sp.Matrix([[eigenvec0[0], eigenvec1[0]],\n",
    "               [eigenvec0[1], eigenvec1[1]]])\n",
    "D"
   ]
  },
  {
   "cell_type": "code",
   "execution_count": 70,
   "metadata": {},
   "outputs": [],
   "source": [
    "h0_diaglized = D.inv() * h0 * D"
   ]
  },
  {
   "cell_type": "code",
   "execution_count": 79,
   "metadata": {},
   "outputs": [
    {
     "name": "stdout",
     "output_type": "stream",
     "text": [
      "0\n",
      "0\n"
     ]
    }
   ],
   "source": [
    "off_diag01 = h0_diaglized[0, 1].simplify()\n",
    "off_diag10 = h0_diaglized[1, 0].simplify()\n",
    "\n",
    "print(off_diag01)\n",
    "print(off_diag10)\n"
   ]
  },
  {
   "cell_type": "code",
   "execution_count": 80,
   "metadata": {},
   "outputs": [],
   "source": [
    "diag0 = h0_diaglized[0, 0].simplify()"
   ]
  },
  {
   "cell_type": "code",
   "execution_count": 81,
   "metadata": {},
   "outputs": [],
   "source": [
    "diag1 = h0_diaglized[1, 1].simplify()\n"
   ]
  },
  {
   "cell_type": "code",
   "execution_count": 82,
   "metadata": {},
   "outputs": [],
   "source": [
    "shift = (diag0 + diag1) / 2"
   ]
  },
  {
   "cell_type": "code",
   "execution_count": 83,
   "metadata": {},
   "outputs": [
    {
     "data": {
      "text/latex": [
       "$\\displaystyle - \\sqrt{g^{2} + Δ^{2}}$"
      ],
      "text/plain": [
       "-sqrt(g**2 + Δ**2)"
      ]
     },
     "execution_count": 83,
     "metadata": {},
     "output_type": "execute_result"
    }
   ],
   "source": [
    "diag0 - shift"
   ]
  },
  {
   "cell_type": "code",
   "execution_count": 84,
   "metadata": {},
   "outputs": [
    {
     "data": {
      "text/latex": [
       "$\\displaystyle \\left[\\begin{matrix}g + Δ \\left(\\frac{Δ}{g} - \\frac{\\sqrt{g^{2} + Δ^{2}}}{g}\\right)\\\\g \\left(\\frac{Δ}{g} - \\frac{\\sqrt{g^{2} + Δ^{2}}}{g}\\right) - Δ\\end{matrix}\\right]$"
      ],
      "text/plain": [
       "Matrix([\n",
       "[g + Δ*(Δ/g - sqrt(g**2 + Δ**2)/g)],\n",
       "[g*(Δ/g - sqrt(g**2 + Δ**2)/g) - Δ]])"
      ]
     },
     "execution_count": 84,
     "metadata": {},
     "output_type": "execute_result"
    }
   ],
   "source": [
    "h0 * eigenvec0"
   ]
  },
  {
   "cell_type": "code",
   "execution_count": 85,
   "metadata": {},
   "outputs": [
    {
     "data": {
      "text/latex": [
       "$\\displaystyle \\left[\\begin{matrix}\\frac{Δ}{g} - \\frac{\\sqrt{g^{2} + Δ^{2}}}{g}\\\\1\\end{matrix}\\right]$"
      ],
      "text/plain": [
       "Matrix([\n",
       "[Δ/g - sqrt(g**2 + Δ**2)/g],\n",
       "[                        1]])"
      ]
     },
     "execution_count": 85,
     "metadata": {},
     "output_type": "execute_result"
    }
   ],
   "source": [
    "eigenvec0"
   ]
  },
  {
   "cell_type": "code",
   "execution_count": null,
   "metadata": {},
   "outputs": [],
   "source": []
  },
  {
   "cell_type": "code",
   "execution_count": 89,
   "metadata": {},
   "outputs": [
    {
     "data": {
      "text/latex": [
       "$\\displaystyle \\left[\\begin{matrix}- \\frac{g}{2 \\sqrt{g^{2} + Δ^{2}}} & \\frac{Δ + \\sqrt{g^{2} + Δ^{2}}}{2 \\sqrt{g^{2} + Δ^{2}}}\\\\\\frac{g}{2 \\sqrt{g^{2} + Δ^{2}}} & \\frac{- Δ + \\sqrt{g^{2} + Δ^{2}}}{2 \\sqrt{g^{2} + Δ^{2}}}\\end{matrix}\\right]$"
      ],
      "text/plain": [
       "Matrix([\n",
       "[-g/(2*sqrt(g**2 + Δ**2)),  (Δ + sqrt(g**2 + Δ**2))/(2*sqrt(g**2 + Δ**2))],\n",
       "[ g/(2*sqrt(g**2 + Δ**2)), (-Δ + sqrt(g**2 + Δ**2))/(2*sqrt(g**2 + Δ**2))]])"
      ]
     },
     "execution_count": 89,
     "metadata": {},
     "output_type": "execute_result"
    }
   ],
   "source": [
    "D.inv()"
   ]
  },
  {
   "cell_type": "code",
   "execution_count": 90,
   "metadata": {},
   "outputs": [
    {
     "data": {
      "text/latex": [
       "$\\displaystyle \\left[\\begin{matrix}\\frac{Δ}{g} - \\frac{\\sqrt{g^{2} + Δ^{2}}}{g} & 1\\\\\\frac{Δ}{g} + \\frac{\\sqrt{g^{2} + Δ^{2}}}{g} & 1\\end{matrix}\\right]$"
      ],
      "text/plain": [
       "Matrix([\n",
       "[Δ/g - sqrt(g**2 + Δ**2)/g, 1],\n",
       "[Δ/g + sqrt(g**2 + Δ**2)/g, 1]])"
      ]
     },
     "execution_count": 90,
     "metadata": {},
     "output_type": "execute_result"
    }
   ],
   "source": [
    "D.T"
   ]
  },
  {
   "cell_type": "code",
   "execution_count": null,
   "metadata": {},
   "outputs": [],
   "source": []
  }
 ],
 "metadata": {
  "kernelspec": {
   "display_name": "qubit-reset",
   "language": "python",
   "name": "python3"
  },
  "language_info": {
   "codemirror_mode": {
    "name": "ipython",
    "version": 3
   },
   "file_extension": ".py",
   "mimetype": "text/x-python",
   "name": "python",
   "nbconvert_exporter": "python",
   "pygments_lexer": "ipython3",
   "version": "3.9.18"
  }
 },
 "nbformat": 4,
 "nbformat_minor": 2
}
