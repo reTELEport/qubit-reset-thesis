{
 "cells": [
  {
   "cell_type": "code",
   "execution_count": 1,
   "metadata": {},
   "outputs": [],
   "source": [
    "import sympy as sp"
   ]
  },
  {
   "cell_type": "code",
   "execution_count": 23,
   "metadata": {},
   "outputs": [],
   "source": [
    "def commutator(A, B):\n",
    "    return A * B - B * A"
   ]
  },
  {
   "cell_type": "code",
   "execution_count": 24,
   "metadata": {},
   "outputs": [
    {
     "data": {
      "text/latex": [
       "$\\displaystyle \\left[\\begin{matrix}Δ & 0 & g\\\\0 & - Δ & g\\\\g & g & δ\\end{matrix}\\right]$"
      ],
      "text/plain": [
       "Matrix([\n",
       "[Δ,  0, g],\n",
       "[0, -Δ, g],\n",
       "[g,  g, δ]])"
      ]
     },
     "execution_count": 24,
     "metadata": {},
     "output_type": "execute_result"
    }
   ],
   "source": [
    "delta = sp.Symbol('Δ', real=True, dtype=float)\n",
    "del1 = sp.Symbol('δ', real=True, positive=True, dtype=float)\n",
    "g = sp.Symbol('g', real=True, dtype=float)\n",
    "g_val = 50\n",
    "a_val = -200\n",
    "\n",
    "h = sp.Matrix([\n",
    "[delta,      0,          g],\n",
    "[0,       -delta,        g],\n",
    "[g,          g,    del1]])\n",
    "\n",
    "h\n"
   ]
  },
  {
   "cell_type": "code",
   "execution_count": 5,
   "metadata": {},
   "outputs": [
    {
     "data": {
      "text/latex": [
       "$\\displaystyle \\left[\\begin{matrix}Δ & 0 & 0\\\\0 & - Δ & 0\\\\0 & 0 & δ\\end{matrix}\\right]$"
      ],
      "text/plain": [
       "Matrix([\n",
       "[Δ,  0, 0],\n",
       "[0, -Δ, 0],\n",
       "[0,  0, δ]])"
      ]
     },
     "execution_count": 5,
     "metadata": {},
     "output_type": "execute_result"
    }
   ],
   "source": [
    "h0 = sp.diag(*h.diagonal())\n",
    "h0\n"
   ]
  },
  {
   "cell_type": "code",
   "execution_count": 6,
   "metadata": {},
   "outputs": [
    {
     "data": {
      "text/latex": [
       "$\\displaystyle \\left[\\begin{matrix}0 & 0 & g\\\\0 & 0 & g\\\\g & g & 0\\end{matrix}\\right]$"
      ],
      "text/plain": [
       "Matrix([\n",
       "[0, 0, g],\n",
       "[0, 0, g],\n",
       "[g, g, 0]])"
      ]
     },
     "execution_count": 6,
     "metadata": {},
     "output_type": "execute_result"
    }
   ],
   "source": [
    "v = h - h0\n",
    "v"
   ]
  },
  {
   "cell_type": "code",
   "execution_count": 12,
   "metadata": {},
   "outputs": [],
   "source": [
    "u = sp.eye(3)"
   ]
  },
  {
   "cell_type": "code",
   "execution_count": 13,
   "metadata": {},
   "outputs": [
    {
     "data": {
      "text/latex": [
       "$\\displaystyle \\left[\\begin{matrix}Δ & - Δ & δ\\end{matrix}\\right]$"
      ],
      "text/plain": [
       "Matrix([[Δ, -Δ, δ]])"
      ]
     },
     "execution_count": 13,
     "metadata": {},
     "output_type": "execute_result"
    }
   ],
   "source": [
    "d = h0.diagonal()\n",
    "d"
   ]
  },
  {
   "cell_type": "code",
   "execution_count": 18,
   "metadata": {},
   "outputs": [
    {
     "data": {
      "text/latex": [
       "$\\displaystyle \\left[\\begin{matrix}0 & 0 & 0\\\\0 & 0 & 0\\\\0 & 0 & 0\\end{matrix}\\right]$"
      ],
      "text/plain": [
       "Matrix([\n",
       "[0, 0, 0],\n",
       "[0, 0, 0],\n",
       "[0, 0, 0]])"
      ]
     },
     "execution_count": 18,
     "metadata": {},
     "output_type": "execute_result"
    }
   ],
   "source": [
    "s = sp.zeros(3)\n",
    "s"
   ]
  },
  {
   "cell_type": "code",
   "execution_count": 20,
   "metadata": {},
   "outputs": [
    {
     "name": "stdout",
     "output_type": "stream",
     "text": [
      "(0, 0) 0\n",
      "(0, 1) 0\n",
      "(0, 2) g\n",
      "(1, 0) 0\n",
      "(1, 1) 0\n",
      "(1, 2) g\n",
      "(2, 0) g\n",
      "(2, 1) g\n",
      "(2, 2) 0\n"
     ]
    }
   ],
   "source": [
    "for i in range(v.rows):\n",
    "    for j in range(v.cols):\n",
    "        element = v[i, j]\n",
    "        index = (i, j)\n",
    "        print(index, element)\n"
   ]
  },
  {
   "cell_type": "code",
   "execution_count": 21,
   "metadata": {},
   "outputs": [],
   "source": [
    "for i in range(s.rows):\n",
    "    for j in range(s.cols):\n",
    "        if abs(d[i] - d[j]) != 0:\n",
    "            s[i, j] = v[i, j] / (d[i] - d[j])\n"
   ]
  },
  {
   "cell_type": "code",
   "execution_count": 22,
   "metadata": {},
   "outputs": [
    {
     "data": {
      "text/latex": [
       "$\\displaystyle \\left[\\begin{matrix}0 & 0 & \\frac{g}{Δ - δ}\\\\0 & 0 & \\frac{g}{- Δ - δ}\\\\\\frac{g}{- Δ + δ} & \\frac{g}{Δ + δ} & 0\\end{matrix}\\right]$"
      ],
      "text/plain": [
       "Matrix([\n",
       "[         0,         0,  g/(Δ - δ)],\n",
       "[         0,         0, g/(-Δ - δ)],\n",
       "[g/(-Δ + δ), g/(Δ + δ),          0]])"
      ]
     },
     "execution_count": 22,
     "metadata": {},
     "output_type": "execute_result"
    }
   ],
   "source": [
    "s"
   ]
  },
  {
   "cell_type": "code",
   "execution_count": 25,
   "metadata": {},
   "outputs": [],
   "source": [
    "h_diag = h + commutator(s, h) + (1 / 2) * commutator(s, commutator(s, h)) "
   ]
  },
  {
   "cell_type": "code",
   "execution_count": 26,
   "metadata": {},
   "outputs": [
    {
     "data": {
      "text/latex": [
       "$\\displaystyle \\left[\\begin{matrix}\\frac{g^{2}}{Δ - δ} - \\frac{g^{2}}{- Δ + δ} + \\frac{0.5 g \\left(\\frac{g Δ}{- Δ + δ} - \\frac{g δ}{- Δ + δ}\\right)}{Δ - δ} - \\frac{0.5 g \\left(- \\frac{g Δ}{Δ - δ} + \\frac{g δ}{Δ - δ}\\right)}{- Δ + δ} + Δ & - \\frac{g^{2}}{Δ + δ} + \\frac{g^{2}}{Δ - δ} - \\frac{0.5 g \\left(- \\frac{g Δ}{Δ - δ} + \\frac{g δ}{Δ - δ}\\right)}{Δ + δ} + \\frac{0.5 g \\left(- \\frac{g Δ}{Δ + δ} - \\frac{g δ}{Δ + δ}\\right)}{Δ - δ} & - \\frac{g Δ}{Δ - δ} + \\frac{g δ}{Δ - δ} + g - \\frac{0.5 g \\left(\\frac{g^{2}}{Δ - δ} - \\frac{g^{2}}{- Δ + δ}\\right)}{Δ - δ} + \\frac{0.5 g \\left(\\frac{g^{2}}{Δ + δ} - \\frac{g^{2}}{Δ - δ} + \\frac{g^{2}}{- Δ + δ} - \\frac{g^{2}}{- Δ - δ}\\right)}{Δ - δ} - \\frac{0.5 g \\left(- \\frac{g^{2}}{Δ + δ} + \\frac{g^{2}}{Δ - δ}\\right)}{- Δ - δ}\\\\- \\frac{g^{2}}{- Δ + δ} + \\frac{g^{2}}{- Δ - δ} - \\frac{0.5 g \\left(\\frac{g Δ}{- Δ - δ} + \\frac{g δ}{- Δ - δ}\\right)}{- Δ + δ} + \\frac{0.5 g \\left(\\frac{g Δ}{- Δ + δ} - \\frac{g δ}{- Δ + δ}\\right)}{- Δ - δ} & - \\frac{g^{2}}{Δ + δ} + \\frac{g^{2}}{- Δ - δ} - \\frac{0.5 g \\left(\\frac{g Δ}{- Δ - δ} + \\frac{g δ}{- Δ - δ}\\right)}{Δ + δ} + \\frac{0.5 g \\left(- \\frac{g Δ}{Δ + δ} - \\frac{g δ}{Δ + δ}\\right)}{- Δ - δ} - Δ & \\frac{g Δ}{- Δ - δ} + \\frac{g δ}{- Δ - δ} + g - \\frac{0.5 g \\left(- \\frac{g^{2}}{- Δ + δ} + \\frac{g^{2}}{- Δ - δ}\\right)}{Δ - δ} - \\frac{0.5 g \\left(- \\frac{g^{2}}{Δ + δ} + \\frac{g^{2}}{- Δ - δ}\\right)}{- Δ - δ} + \\frac{0.5 g \\left(\\frac{g^{2}}{Δ + δ} - \\frac{g^{2}}{Δ - δ} + \\frac{g^{2}}{- Δ + δ} - \\frac{g^{2}}{- Δ - δ}\\right)}{- Δ - δ}\\\\\\frac{g Δ}{- Δ + δ} - \\frac{g δ}{- Δ + δ} + g + \\frac{0.5 g \\left(- \\frac{g^{2}}{- Δ + δ} + \\frac{g^{2}}{- Δ - δ}\\right)}{Δ + δ} + \\frac{0.5 g \\left(\\frac{g^{2}}{Δ - δ} - \\frac{g^{2}}{- Δ + δ}\\right)}{- Δ + δ} - \\frac{0.5 g \\left(\\frac{g^{2}}{Δ + δ} - \\frac{g^{2}}{Δ - δ} + \\frac{g^{2}}{- Δ + δ} - \\frac{g^{2}}{- Δ - δ}\\right)}{- Δ + δ} & - \\frac{g Δ}{Δ + δ} - \\frac{g δ}{Δ + δ} + g + \\frac{0.5 g \\left(- \\frac{g^{2}}{Δ + δ} + \\frac{g^{2}}{- Δ - δ}\\right)}{Δ + δ} - \\frac{0.5 g \\left(\\frac{g^{2}}{Δ + δ} - \\frac{g^{2}}{Δ - δ} + \\frac{g^{2}}{- Δ + δ} - \\frac{g^{2}}{- Δ - δ}\\right)}{Δ + δ} + \\frac{0.5 g \\left(- \\frac{g^{2}}{Δ + δ} + \\frac{g^{2}}{Δ - δ}\\right)}{- Δ + δ} & \\frac{g^{2}}{Δ + δ} - \\frac{g^{2}}{Δ - δ} + \\frac{g^{2}}{- Δ + δ} - \\frac{g^{2}}{- Δ - δ} + \\frac{0.5 g \\left(\\frac{g Δ}{- Δ - δ} + \\frac{g δ}{- Δ - δ}\\right)}{Δ + δ} - \\frac{0.5 g \\left(\\frac{g Δ}{- Δ + δ} - \\frac{g δ}{- Δ + δ}\\right)}{Δ - δ} + \\frac{0.5 g \\left(- \\frac{g Δ}{Δ - δ} + \\frac{g δ}{Δ - δ}\\right)}{- Δ + δ} - \\frac{0.5 g \\left(- \\frac{g Δ}{Δ + δ} - \\frac{g δ}{Δ + δ}\\right)}{- Δ - δ} + δ\\end{matrix}\\right]$"
      ],
      "text/plain": [
       "Matrix([\n",
       "[                                                                                   g**2/(Δ - δ) - g**2/(-Δ + δ) + 0.5*g*(g*Δ/(-Δ + δ) - g*δ/(-Δ + δ))/(Δ - δ) - 0.5*g*(-g*Δ/(Δ - δ) + g*δ/(Δ - δ))/(-Δ + δ) + Δ,                                                                                       -g**2/(Δ + δ) + g**2/(Δ - δ) - 0.5*g*(-g*Δ/(Δ - δ) + g*δ/(Δ - δ))/(Δ + δ) + 0.5*g*(-g*Δ/(Δ + δ) - g*δ/(Δ + δ))/(Δ - δ),                                             -g*Δ/(Δ - δ) + g*δ/(Δ - δ) + g - 0.5*g*(g**2/(Δ - δ) - g**2/(-Δ + δ))/(Δ - δ) + 0.5*g*(g**2/(Δ + δ) - g**2/(Δ - δ) + g**2/(-Δ + δ) - g**2/(-Δ - δ))/(Δ - δ) - 0.5*g*(-g**2/(Δ + δ) + g**2/(Δ - δ))/(-Δ - δ)],\n",
       "[                                                                                   -g**2/(-Δ + δ) + g**2/(-Δ - δ) - 0.5*g*(g*Δ/(-Δ - δ) + g*δ/(-Δ - δ))/(-Δ + δ) + 0.5*g*(g*Δ/(-Δ + δ) - g*δ/(-Δ + δ))/(-Δ - δ),                                                                                -g**2/(Δ + δ) + g**2/(-Δ - δ) - 0.5*g*(g*Δ/(-Δ - δ) + g*δ/(-Δ - δ))/(Δ + δ) + 0.5*g*(-g*Δ/(Δ + δ) - g*δ/(Δ + δ))/(-Δ - δ) - Δ,                                        g*Δ/(-Δ - δ) + g*δ/(-Δ - δ) + g - 0.5*g*(-g**2/(-Δ + δ) + g**2/(-Δ - δ))/(Δ - δ) - 0.5*g*(-g**2/(Δ + δ) + g**2/(-Δ - δ))/(-Δ - δ) + 0.5*g*(g**2/(Δ + δ) - g**2/(Δ - δ) + g**2/(-Δ + δ) - g**2/(-Δ - δ))/(-Δ - δ)],\n",
       "[g*Δ/(-Δ + δ) - g*δ/(-Δ + δ) + g + 0.5*g*(-g**2/(-Δ + δ) + g**2/(-Δ - δ))/(Δ + δ) + 0.5*g*(g**2/(Δ - δ) - g**2/(-Δ + δ))/(-Δ + δ) - 0.5*g*(g**2/(Δ + δ) - g**2/(Δ - δ) + g**2/(-Δ + δ) - g**2/(-Δ - δ))/(-Δ + δ), -g*Δ/(Δ + δ) - g*δ/(Δ + δ) + g + 0.5*g*(-g**2/(Δ + δ) + g**2/(-Δ - δ))/(Δ + δ) - 0.5*g*(g**2/(Δ + δ) - g**2/(Δ - δ) + g**2/(-Δ + δ) - g**2/(-Δ - δ))/(Δ + δ) + 0.5*g*(-g**2/(Δ + δ) + g**2/(Δ - δ))/(-Δ + δ), g**2/(Δ + δ) - g**2/(Δ - δ) + g**2/(-Δ + δ) - g**2/(-Δ - δ) + 0.5*g*(g*Δ/(-Δ - δ) + g*δ/(-Δ - δ))/(Δ + δ) - 0.5*g*(g*Δ/(-Δ + δ) - g*δ/(-Δ + δ))/(Δ - δ) + 0.5*g*(-g*Δ/(Δ - δ) + g*δ/(Δ - δ))/(-Δ + δ) - 0.5*g*(-g*Δ/(Δ + δ) - g*δ/(Δ + δ))/(-Δ - δ) + δ]])"
      ]
     },
     "execution_count": 26,
     "metadata": {},
     "output_type": "execute_result"
    }
   ],
   "source": [
    "h_diag"
   ]
  },
  {
   "cell_type": "code",
   "execution_count": 27,
   "metadata": {},
   "outputs": [],
   "source": [
    "h_diag0 = h0 + (1 / 2) * commutator(s, v)"
   ]
  },
  {
   "cell_type": "code",
   "execution_count": 28,
   "metadata": {},
   "outputs": [
    {
     "data": {
      "text/latex": [
       "$\\displaystyle \\left[\\begin{matrix}\\frac{0.5 g^{2}}{Δ - δ} - \\frac{0.5 g^{2}}{- Δ + δ} + Δ & - \\frac{0.5 g^{2}}{Δ + δ} + \\frac{0.5 g^{2}}{Δ - δ} & 0\\\\- \\frac{0.5 g^{2}}{- Δ + δ} + \\frac{0.5 g^{2}}{- Δ - δ} & - \\frac{0.5 g^{2}}{Δ + δ} + \\frac{0.5 g^{2}}{- Δ - δ} - Δ & 0\\\\0 & 0 & \\frac{0.5 g^{2}}{Δ + δ} - \\frac{0.5 g^{2}}{Δ - δ} + \\frac{0.5 g^{2}}{- Δ + δ} - \\frac{0.5 g^{2}}{- Δ - δ} + δ\\end{matrix}\\right]$"
      ],
      "text/plain": [
       "Matrix([\n",
       "[0.5*g**2/(Δ - δ) - 0.5*g**2/(-Δ + δ) + Δ,      -0.5*g**2/(Δ + δ) + 0.5*g**2/(Δ - δ),                                                                               0],\n",
       "[  -0.5*g**2/(-Δ + δ) + 0.5*g**2/(-Δ - δ), -0.5*g**2/(Δ + δ) + 0.5*g**2/(-Δ - δ) - Δ,                                                                               0],\n",
       "[                                       0,                                         0, 0.5*g**2/(Δ + δ) - 0.5*g**2/(Δ - δ) + 0.5*g**2/(-Δ + δ) - 0.5*g**2/(-Δ - δ) + δ]])"
      ]
     },
     "execution_count": 28,
     "metadata": {},
     "output_type": "execute_result"
    }
   ],
   "source": [
    "h_diag0"
   ]
  },
  {
   "cell_type": "code",
   "execution_count": 30,
   "metadata": {},
   "outputs": [
    {
     "data": {
      "text/latex": [
       "$\\displaystyle \\left[\\begin{matrix}\\frac{1.0 g^{2} + Δ \\left(Δ - δ\\right)}{Δ - δ} & \\frac{g^{2} δ}{Δ^{2} - δ^{2}} & \\frac{g^{3} \\left(- 1.0 Δ^{2} - 3.0 Δ δ - 4.0 δ^{2}\\right)}{1.0 Δ^{4} - 2.0 Δ^{2} δ^{2} + 1.0 δ^{4}}\\\\\\frac{g^{2} δ}{Δ^{2} - δ^{2}} & \\frac{- 1.0 g^{2} - Δ \\left(Δ + δ\\right)}{Δ + δ} & \\frac{g^{3} \\left(- 1.0 Δ^{2} + 3.0 Δ δ - 4.0 δ^{2}\\right)}{1.0 Δ^{4} - 2.0 Δ^{2} δ^{2} + 1.0 δ^{4}}\\\\\\frac{g^{3} \\left(- 1.0 Δ^{2} - 3.0 Δ δ - 4.0 δ^{2}\\right)}{1.0 Δ^{4} - 2.0 Δ^{2} δ^{2} + 1.0 δ^{4}} & \\frac{g^{3} \\left(- 1.0 Δ^{2} + 3.0 Δ δ - 4.0 δ^{2}\\right)}{1.0 Δ^{4} - 2.0 Δ^{2} δ^{2} + 1.0 δ^{4}} & \\frac{1.0 δ \\left(- 2.0 g^{2} + 1.0 Δ^{2} - 1.0 δ^{2}\\right)}{Δ^{2} - δ^{2}}\\end{matrix}\\right]$"
      ],
      "text/plain": [
       "Matrix([\n",
       "[                                             (1.0*g**2 + Δ*(Δ - δ))/(Δ - δ),                                                        g**2*δ/(Δ**2 - δ**2), g**3*(-1.0*Δ**2 - 3.0*Δ*δ - 4.0*δ**2)/(1.0*Δ**4 - 2.0*Δ**2*δ**2 + 1.0*δ**4)],\n",
       "[                                                       g**2*δ/(Δ**2 - δ**2),                                             (-1.0*g**2 - Δ*(Δ + δ))/(Δ + δ), g**3*(-1.0*Δ**2 + 3.0*Δ*δ - 4.0*δ**2)/(1.0*Δ**4 - 2.0*Δ**2*δ**2 + 1.0*δ**4)],\n",
       "[g**3*(-1.0*Δ**2 - 3.0*Δ*δ - 4.0*δ**2)/(1.0*Δ**4 - 2.0*Δ**2*δ**2 + 1.0*δ**4), g**3*(-1.0*Δ**2 + 3.0*Δ*δ - 4.0*δ**2)/(1.0*Δ**4 - 2.0*Δ**2*δ**2 + 1.0*δ**4),                       1.0*δ*(-2.0*g**2 + 1.0*Δ**2 - 1.0*δ**2)/(Δ**2 - δ**2)]])"
      ]
     },
     "execution_count": 30,
     "metadata": {},
     "output_type": "execute_result"
    }
   ],
   "source": [
    "sp.simplify(h_diag)"
   ]
  },
  {
   "cell_type": "code",
   "execution_count": null,
   "metadata": {},
   "outputs": [],
   "source": []
  }
 ],
 "metadata": {
  "kernelspec": {
   "display_name": "qubit-reset",
   "language": "python",
   "name": "python3"
  },
  "language_info": {
   "codemirror_mode": {
    "name": "ipython",
    "version": 3
   },
   "file_extension": ".py",
   "mimetype": "text/x-python",
   "name": "python",
   "nbconvert_exporter": "python",
   "pygments_lexer": "ipython3",
   "version": "3.9.18"
  }
 },
 "nbformat": 4,
 "nbformat_minor": 2
}
