{
 "cells": [
  {
   "cell_type": "code",
   "execution_count": 1,
   "metadata": {},
   "outputs": [
    {
     "name": "stderr",
     "output_type": "stream",
     "text": [
      "d:\\anaconda3\\envs\\qubit-reset\\lib\\site-packages\\qutip\\__init__.py:66: UserWarning: The new version of Cython, (>= 3.0.0) is not supported.\n",
      "  warnings.warn(\n"
     ]
    }
   ],
   "source": [
    "import numpy as np\n",
    "from matplotlib import pyplot as plt\n",
    "from scipy.integrate import odeint  \n",
    "from math import pi\n",
    "from qutip import Options, sigmax, sigmaz, sesolve, mesolve, basis, expect, tensor, qeye, destroy, Qobj\n",
    "from scipy.optimize import curve_fit\n",
    "from schedule import run, generate_local_adiabatic_pulse, ramp_array, ramp, Schedule, find_eigen\n",
    "import sympy as sp\n",
    "from sympy.assumptions.refine import refine_abs, refine\n",
    "from sympy import Q, Abs, Eq\n",
    "from copy import deepcopy\n",
    "from math import factorial, floor"
   ]
  },
  {
   "cell_type": "code",
   "execution_count": 2,
   "metadata": {},
   "outputs": [],
   "source": [
    "def generator_element(h, j, k):\n",
    "    D = sp.diag(h)\n",
    "    V_jk = h[j, k]\n",
    "    D_j, D_k = D[j, j], D[k, k]\n",
    "    S_jk = V_jk / (D_j - D_k)\n",
    "    return S_jk\n",
    "\n",
    "def commutator(A, B):\n",
    "    return A * B - B * A\n",
    "\n",
    "def commutator_ct(A, ct_last):\n",
    "    Ct = commutator(A, ct_last)\n",
    "    return Ct \n",
    "\n",
    "def generator(V, D):\n",
    "    S = sp.zeros(sp.shape(V)[0], sp.shape(V)[1])\n",
    "    for j in range(V.rows):\n",
    "        for k in range(V.cols):\n",
    "            if V[j, k] != 0:\n",
    "                s_jk = V[j, k] / (D[j, j] - D[k, k])\n",
    "                S[j, k] = s_jk\n",
    "    return S\n",
    "\n",
    "def update_h(m, S, D, V):\n",
    "    h = D\n",
    "    Ct = commutator(S, V)\n",
    "    for t in range(1, m):\n",
    "        h = h + (t / sp.factorial(t+1)) * Ct\n",
    "        Ct = commutator_ct(S, Ct)\n",
    "    return h\n",
    "\n",
    "def RSWT(h0, K):\n",
    "    n_max = floor(np.log2(K))\n",
    "    hn = h0\n",
    "    h_list = [h0]\n",
    "    for n in range(n_max):\n",
    "        Dn = sp.diag(*hn.diagonal())\n",
    "        Vn = hn - Dn\n",
    "        Sn = generator(Vn, Dn)\n",
    "        m = floor(K / (2 ** n))\n",
    "        hn = update_h(m, Sn, Dn, Vn)\n",
    "        h_list.append(hn)\n",
    "    return hn, h_list   \n",
    "\n",
    "def plot_eigen(x, h_list, plot_step=1, marker='.'):\n",
    "    eigen_3ls_energies = []\n",
    "    for _h in h_list:\n",
    "        h_qobj = Qobj(_h)\n",
    "        energies = h_qobj.eigenenergies()\n",
    "        eigen_3ls_energies.append(energies)\n",
    "    eigen_3ls_energies_mat = np.array(eigen_3ls_energies).T\n",
    "    plt.plot(x[::plot_step], eigen_3ls_energies_mat[0][::plot_step], marker)\n",
    "    plt.plot(x[::plot_step], eigen_3ls_energies_mat[1][::plot_step], marker)\n",
    "    return eigen_3ls_energies_mat"
   ]
  },
  {
   "cell_type": "code",
   "execution_count": 3,
   "metadata": {},
   "outputs": [],
   "source": [
    "delta = sp.Symbol('Δ', real=True, positive=True, dtype=float)\n",
    "g = sp.Symbol('g', positive=True, real=True, dtype=float)\n",
    "d = sp.Symbol('d', positive=True, real=True, dtype=float)\n",
    "\n",
    "h0_tls = sp.Matrix([\n",
    "[delta,      g],\n",
    "[g,       -delta]])\n",
    "\n",
    "h0_3ls = sp.Matrix([\n",
    "[delta,      0,            g],\n",
    "[0,       -delta,          g],\n",
    "[g,            g,    d]])"
   ]
  },
  {
   "cell_type": "code",
   "execution_count": 4,
   "metadata": {},
   "outputs": [],
   "source": [
    "K = 2\n"
   ]
  },
  {
   "cell_type": "code",
   "execution_count": 5,
   "metadata": {},
   "outputs": [],
   "source": [
    "h, _ = RSWT(h0_3ls, K)\n",
    "# h"
   ]
  },
  {
   "cell_type": "code",
   "execution_count": 6,
   "metadata": {},
   "outputs": [
    {
     "data": {
      "text/latex": [
       "$\\displaystyle \\left[\\begin{matrix}- \\frac{g^{2}}{2 \\left(d - Δ\\right)} + \\frac{g^{2}}{2 \\left(- d + Δ\\right)} + Δ & - \\frac{g^{2}}{2 \\left(d + Δ\\right)} + \\frac{g^{2}}{2 \\left(- d + Δ\\right)}\\\\- \\frac{g^{2}}{2 \\left(d - Δ\\right)} + \\frac{g^{2}}{2 \\left(- d - Δ\\right)} & - \\frac{g^{2}}{2 \\left(d + Δ\\right)} + \\frac{g^{2}}{2 \\left(- d - Δ\\right)} - Δ\\end{matrix}\\right]$"
      ],
      "text/plain": [
       "Matrix([\n",
       "[-g**2/(2*(d - Δ)) + g**2/(2*(-d + Δ)) + Δ,     -g**2/(2*(d + Δ)) + g**2/(2*(-d + Δ))],\n",
       "[    -g**2/(2*(d - Δ)) + g**2/(2*(-d - Δ)), -g**2/(2*(d + Δ)) + g**2/(2*(-d - Δ)) - Δ]])"
      ]
     },
     "execution_count": 6,
     "metadata": {},
     "output_type": "execute_result"
    }
   ],
   "source": [
    "h_eff = h[0:2, 0:2]\n",
    "h_eff"
   ]
  },
  {
   "cell_type": "code",
   "execution_count": 8,
   "metadata": {},
   "outputs": [],
   "source": [
    "g_val = 50e-3\n",
    "d_val = 150e-3\n",
    "delta_sweep = np.linspace(-1.5 * g_val, 1.5 * g_val, 50) \n",
    "\n",
    "e1_sym_num = [h[0, 1].subs({g: g_val, delta: delta_val, d: d_val}) for delta_val in delta_sweep]\n",
    "e2_sym_num = [h[1, 1].subs({g: g_val, delta: delta_val, d: d_val}) for delta_val in delta_sweep]\n",
    "\n"
   ]
  },
  {
   "cell_type": "code",
   "execution_count": 9,
   "metadata": {},
   "outputs": [],
   "source": [
    "h0_list = [np.array(h0_3ls.subs({g: g_val, delta: delta_val, d: d_val})) for delta_val in delta_sweep]\n",
    "h_list = [np.array(h_eff.subs({g: g_val, delta: delta_val, d: d_val})) for delta_val in delta_sweep]"
   ]
  },
  {
   "cell_type": "code",
   "execution_count": 10,
   "metadata": {},
   "outputs": [
    {
     "data": {
      "text/plain": [
       "array([[-0.0861111111111111, -0.0222222222222222],\n",
       "       [-0.0222222222222222, 0.0416666666666667]], dtype=object)"
      ]
     },
     "execution_count": 10,
     "metadata": {},
     "output_type": "execute_result"
    }
   ],
   "source": [
    "h_list[0]"
   ]
  },
  {
   "cell_type": "code",
   "execution_count": 171,
   "metadata": {},
   "outputs": [
    {
     "data": {
      "image/png": "[encoded data removed]",
      "text/plain": [
       "<Figure size 640x480 with 1 Axes>"
      ]
     },
     "metadata": {},
     "output_type": "display_data"
    }
   ],
   "source": [
    "plt.plot(delta_sweep, e1_sym_num)\n",
    "# plt.plot(delta_sweep, e2_sym_num)\n",
    "\n",
    "plt.show()"
   ]
  },
  {
   "cell_type": "code",
   "execution_count": 11,
   "metadata": {},
   "outputs": [
    {
     "data": {
      "text/plain": [
       "numpy.ndarray"
      ]
     },
     "execution_count": 11,
     "metadata": {},
     "output_type": "execute_result"
    }
   ],
   "source": [
    "type(h_list[0])"
   ]
  },
  {
   "cell_type": "code",
   "execution_count": 12,
   "metadata": {},
   "outputs": [
    {
     "data": {
      "text/plain": [
       "array([[-8.63212233e-02, -8.34408936e-02, -8.05685301e-02,\n",
       "        -7.77049042e-02, -7.48509142e-02, -7.20076142e-02,\n",
       "        -6.91762518e-02, -6.63583165e-02, -6.35556041e-02,\n",
       "        -6.07703018e-02, -5.80051036e-02, -5.52633667e-02,\n",
       "        -5.25493287e-02, -4.98684114e-02, -4.72276513e-02,\n",
       "        -4.46363181e-02, -4.21068106e-02, -3.96559586e-02,\n",
       "        -3.73069052e-02, -3.50917553e-02, -3.30550544e-02,\n",
       "        -3.12576208e-02, -2.97787747e-02, -2.87122846e-02,\n",
       "        -2.81495355e-02, -2.81495355e-02, -2.87122846e-02,\n",
       "        -2.97787747e-02, -3.12576208e-02, -3.30550544e-02,\n",
       "        -3.50917553e-02, -3.73069052e-02, -3.96559586e-02,\n",
       "        -4.21068106e-02, -4.46363181e-02, -4.72276513e-02,\n",
       "        -4.98684114e-02, -5.25493287e-02, -5.52633667e-02,\n",
       "        -5.80051036e-02, -6.07703018e-02, -6.35556041e-02,\n",
       "        -6.63583165e-02, -6.91762518e-02, -7.20076142e-02,\n",
       "        -7.48509142e-02, -7.77049042e-02, -8.05685301e-02,\n",
       "        -8.34408936e-02, -8.63212233e-02],\n",
       "       [ 5.34505425e-02,  5.09912040e-02,  4.85159249e-02,\n",
       "         4.60263368e-02,  4.35241527e-02,  4.10111963e-02,\n",
       "         3.84894400e-02,  3.59610540e-02,  3.34284715e-02,\n",
       "         3.08944748e-02,  2.83623112e-02,  2.58358510e-02,\n",
       "         2.33198053e-02,  2.08200308e-02,  1.83439612e-02,\n",
       "         1.59012270e-02,  1.35045518e-02,  1.11710553e-02,\n",
       "         8.92413653e-03,  6.79612249e-03,  4.83174796e-03,\n",
       "         3.09198838e-03,  1.65628879e-03,  6.18511316e-04,\n",
       "         7.01030042e-05,  7.01030042e-05,  6.18511316e-04,\n",
       "         1.65628879e-03,  3.09198838e-03,  4.83174796e-03,\n",
       "         6.79612249e-03,  8.92413653e-03,  1.11710553e-02,\n",
       "         1.35045518e-02,  1.59012270e-02,  1.83439612e-02,\n",
       "         2.08200308e-02,  2.33198053e-02,  2.58358510e-02,\n",
       "         2.83623112e-02,  3.08944748e-02,  3.34284715e-02,\n",
       "         3.59610540e-02,  3.84894400e-02,  4.10111963e-02,\n",
       "         4.35241527e-02,  4.60263368e-02,  4.85159249e-02,\n",
       "         5.09912040e-02,  5.34505425e-02],\n",
       "       [ 1.82870681e-01,  1.82449690e-01,  1.82052605e-01,\n",
       "         1.81678567e-01,  1.81326762e-01,  1.80996418e-01,\n",
       "         1.80686812e-01,  1.80397263e-01,  1.80127133e-01,\n",
       "         1.79875827e-01,  1.79642792e-01,  1.79427516e-01,\n",
       "         1.79229523e-01,  1.79048381e-01,  1.78883690e-01,\n",
       "         1.78735091e-01,  1.78602259e-01,  1.78484903e-01,\n",
       "         1.78382769e-01,  1.78295633e-01,  1.78223306e-01,\n",
       "         1.78165632e-01,  1.78122486e-01,  1.78093773e-01,\n",
       "         1.78079433e-01,  1.78079433e-01,  1.78093773e-01,\n",
       "         1.78122486e-01,  1.78165632e-01,  1.78223306e-01,\n",
       "         1.78295633e-01,  1.78382769e-01,  1.78484903e-01,\n",
       "         1.78602259e-01,  1.78735091e-01,  1.78883690e-01,\n",
       "         1.79048381e-01,  1.79229523e-01,  1.79427516e-01,\n",
       "         1.79642792e-01,  1.79875827e-01,  1.80127133e-01,\n",
       "         1.80397263e-01,  1.80686812e-01,  1.80996418e-01,\n",
       "         1.81326762e-01,  1.81678567e-01,  1.82052605e-01,\n",
       "         1.82449690e-01,  1.82870681e-01]])"
      ]
     },
     "execution_count": 12,
     "metadata": {},
     "output_type": "execute_result"
    },
    {
     "data": {
      "image/png": "[encoded data removed]",
      "text/plain": [
       "<Figure size 640x480 with 1 Axes>"
      ]
     },
     "metadata": {},
     "output_type": "display_data"
    }
   ],
   "source": [
    "plot_eigen(delta_sweep, h_list, marker='-')\n",
    "plot_eigen(delta_sweep, h0_list)\n"
   ]
  },
  {
   "cell_type": "code",
   "execution_count": null,
   "metadata": {},
   "outputs": [],
   "source": []
  },
  {
   "cell_type": "code",
   "execution_count": null,
   "metadata": {},
   "outputs": [],
   "source": []
  }
 ],
 "metadata": {
  "kernelspec": {
   "display_name": "qubit-reset",
   "language": "python",
   "name": "python3"
  },
  "language_info": {
   "codemirror_mode": {
    "name": "ipython",
    "version": 3
   },
   "file_extension": ".py",
   "mimetype": "text/x-python",
   "name": "python",
   "nbconvert_exporter": "python",
   "pygments_lexer": "ipython3",
   "version": "3.9.18"
  }
 },
 "nbformat": 4,
 "nbformat_minor": 2
}
